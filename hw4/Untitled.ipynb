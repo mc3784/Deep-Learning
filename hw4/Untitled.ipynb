{
 "cells": [
  {
   "cell_type": "code",
   "execution_count": 13,
   "metadata": {
    "collapsed": false
   },
   "outputs": [],
   "source": [
    "require 'nn'\n",
    "require 'nngraph';\n",
    "--require 'graph'\n",
    "\n",
    "h1 = nn.Linear(20, 10)()\n",
    "h2 = nn.Linear(10, 1)(nn.Tanh()(nn.Linear(10, 10)(nn.Tanh()(h1))))\n",
    "mlp = nn.gModule({h1}, {h2})\n",
    "\n",
    "x = torch.rand(20)\n",
    "dx = torch.rand(1)\n",
    "mlp:updateOutput(x)\n",
    "mlp:updateGradInput(x, dx)\n",
    "mlp:accGradParameters(x, dx)\n",
    "\n"
   ]
  },
  {
   "cell_type": "code",
   "execution_count": 14,
   "metadata": {
    "collapsed": false
   },
   "outputs": [
    {
     "ename": "...cheleceru/torch/install/share/lua/5.1/graph/graphviz.lua:155: graphviz library could not be loaded.\nstack traceback:\n\t[C]: in function 'error'\n\t...cheleceru/torch/install/share/lua/5.1/graph/graphviz.lua:155: in function 'graphvizFile'\n\t...cheleceru/torch/install/share/lua/5.1/graph/graphviz.lua:195: in function 'f'\n\t[string \"local f = function() return -- draw graph (th...\"]:2: in main chunk\n\t[C]: in function 'xpcall'\n\t.../micheleceru/torch/install/share/lua/5.1/itorch/main.lua:179: in function <.../micheleceru/torch/install/share/lua/5.1/itorch/main.lua:143>\n\t.../micheleceru/torch/install/share/lua/5.1/lzmq/poller.lua:75: in function 'poll'\n\t...cheleceru/torch/install/share/lua/5.1/lzmq/impl/loop.lua:307: in function 'poll'\n\t...cheleceru/torch/install/share/lua/5.1/lzmq/impl/loop.lua:325: in function 'sleep_ex'\n\t...cheleceru/torch/install/share/lua/5.1/lzmq/impl/loop.lua:370: in function 'start'\n\t.../micheleceru/torch/install/share/lua/5.1/itorch/main.lua:350: in main chunk\n\t[C]: in function 'require'\n\t(command line):1: in main chunk\n\t[C]: at 0x0102b0b1d0",
     "evalue": "",
     "output_type": "error",
     "traceback": [
      "...cheleceru/torch/install/share/lua/5.1/graph/graphviz.lua:155: graphviz library could not be loaded.\nstack traceback:\n\t[C]: in function 'error'\n\t...cheleceru/torch/install/share/lua/5.1/graph/graphviz.lua:155: in function 'graphvizFile'\n\t...cheleceru/torch/install/share/lua/5.1/graph/graphviz.lua:195: in function 'f'\n\t[string \"local f = function() return -- draw graph (th...\"]:2: in main chunk\n\t[C]: in function 'xpcall'\n\t.../micheleceru/torch/install/share/lua/5.1/itorch/main.lua:179: in function <.../micheleceru/torch/install/share/lua/5.1/itorch/main.lua:143>\n\t.../micheleceru/torch/install/share/lua/5.1/lzmq/poller.lua:75: in function 'poll'\n\t...cheleceru/torch/install/share/lua/5.1/lzmq/impl/loop.lua:307: in function 'poll'\n\t...cheleceru/torch/install/share/lua/5.1/lzmq/impl/loop.lua:325: in function 'sleep_ex'\n\t...cheleceru/torch/install/share/lua/5.1/lzmq/impl/loop.lua:370: in function 'start'\n\t.../micheleceru/torch/install/share/lua/5.1/itorch/main.lua:350: in main chunk\n\t[C]: in function 'require'\n\t(command line):1: in main chunk\n\t[C]: at 0x0102b0b1d0"
     ]
    }
   ],
   "source": [
    "-- draw graph (the forward graph, '.fg')\n",
    "graph.dot(mlp.fg, 'MLP')"
   ]
  },
  {
   "cell_type": "markdown",
   "metadata": {},
   "source": [
    "### Identity"
   ]
  },
  {
   "cell_type": "code",
   "execution_count": 17,
   "metadata": {
    "collapsed": true
   },
   "outputs": [],
   "source": [
    "require 'nngraph';\n",
    "-- Notice the extra (). The extra () contain properties of this module when embedded into a graph.\n",
    "x1 = nn.Identity()()\n",
    "-- gModule is the master module that indicates the input and output nodes of the graph. \n",
    "-- The above module's input and output node are both x1.\n",
    "m = nn.gModule({x1},{x1})\n",
    "a = torch.Tensor{1,2,3}"
   ]
  },
  {
   "cell_type": "code",
   "execution_count": 18,
   "metadata": {
    "collapsed": false
   },
   "outputs": [
    {
     "data": {
      "text/plain": [
       " 1\n",
       " 2\n",
       " 3\n",
       "[torch.DoubleTensor of size 3]\n",
       "\n"
      ]
     },
     "execution_count": 18,
     "metadata": {},
     "output_type": "execute_result"
    }
   ],
   "source": [
    "m:forward(a)"
   ]
  },
  {
   "cell_type": "markdown",
   "metadata": {},
   "source": [
    "### Sum"
   ]
  },
  {
   "cell_type": "code",
   "execution_count": 21,
   "metadata": {
    "collapsed": true
   },
   "outputs": [],
   "source": [
    "a = nn.Identity()()\n",
    "b = nn.Identity()()\n",
    "x = nn.CAddTable()({a,b})\n",
    "m = nn.gModule({a,b},{x})\n",
    "t1 = torch.Tensor{1,2,3}\n",
    "t2 = torch.Tensor{3,4,5}"
   ]
  },
  {
   "cell_type": "code",
   "execution_count": 22,
   "metadata": {
    "collapsed": false
   },
   "outputs": [
    {
     "data": {
      "text/plain": [
       " 4\n",
       " 6\n",
       " 8\n",
       "[torch.DoubleTensor of size 3]\n",
       "\n"
      ]
     },
     "execution_count": 22,
     "metadata": {},
     "output_type": "execute_result"
    }
   ],
   "source": [
    "m:forward({t1,t2})"
   ]
  },
  {
   "cell_type": "markdown",
   "metadata": {},
   "source": [
    "### Element-wise subtraction and multiplication"
   ]
  },
  {
   "cell_type": "code",
   "execution_count": 29,
   "metadata": {
    "collapsed": true
   },
   "outputs": [],
   "source": [
    "a = nn.Identity()()\n",
    "b = nn.Identity()()\n",
    "x = nn.CSubTable()({a,b})\n",
    "m = nn.gModule({a,b},{x})"
   ]
  },
  {
   "cell_type": "code",
   "execution_count": 30,
   "metadata": {
    "collapsed": false
   },
   "outputs": [
    {
     "data": {
      "text/plain": [
       "-2\n",
       "-2\n",
       "-2\n",
       "[torch.DoubleTensor of size 3]\n",
       "\n"
      ]
     },
     "execution_count": 30,
     "metadata": {},
     "output_type": "execute_result"
    }
   ],
   "source": [
    "m:forward({t1,t2})"
   ]
  },
  {
   "cell_type": "code",
   "execution_count": 171,
   "metadata": {
    "collapsed": false
   },
   "outputs": [],
   "source": [
    "a = nn.Identity()()\n",
    "b = nn.Identity()()\n",
    "x = nn.CMulTable()({a,b})\n",
    "m = nn.gModule({a,b},{x})"
   ]
  },
  {
   "cell_type": "code",
   "execution_count": 172,
   "metadata": {
    "collapsed": false,
    "scrolled": true
   },
   "outputs": [
    {
     "data": {
      "text/plain": [
       "  3\n",
       "  8\n",
       " 15\n",
       "[torch.DoubleTensor of size 3]\n",
       "\n"
      ]
     },
     "execution_count": 172,
     "metadata": {},
     "output_type": "execute_result"
    }
   ],
   "source": [
    "m:forward({t1,t2})"
   ]
  },
  {
   "cell_type": "code",
   "execution_count": 173,
   "metadata": {
    "collapsed": false
   },
   "outputs": [
    {
     "ename": "...heleceru/torch/install/share/lua/5.1/nngraph/gmodule.lua:74: an input should have no inputs\nstack traceback:\n\t[C]: in function 'assert'\n\t...heleceru/torch/install/share/lua/5.1/nngraph/gmodule.lua:74: in function '__init'\n\t...s/micheleceru/torch/install/share/lua/5.1/torch/init.lua:91: in function <...s/micheleceru/torch/install/share/lua/5.1/torch/init.lua:87>\n\t[C]: in function 'gModule'\n\t[string \"...\"]:3: in main chunk\n\t[C]: in function 'xpcall'\n\t.../micheleceru/torch/install/share/lua/5.1/itorch/main.lua:179: in function <.../micheleceru/torch/install/share/lua/5.1/itorch/main.lua:143>\n\t.../micheleceru/torch/install/share/lua/5.1/lzmq/poller.lua:75: in function 'poll'\n\t...cheleceru/torch/install/share/lua/5.1/lzmq/impl/loop.lua:307: in function 'poll'\n\t...cheleceru/torch/install/share/lua/5.1/lzmq/impl/loop.lua:325: in function 'sleep_ex'\n\t...cheleceru/torch/install/share/lua/5.1/lzmq/impl/loop.lua:370: in function 'start'\n\t.../micheleceru/torch/install/share/lua/5.1/itorch/main.lua:350: in main chunk\n\t[C]: in function 'require'\n\t(command line):1: in main chunk\n\t[C]: at 0x0102b0b1d0",
     "evalue": "",
     "output_type": "error",
     "traceback": [
      "...heleceru/torch/install/share/lua/5.1/nngraph/gmodule.lua:74: an input should have no inputs\nstack traceback:\n\t[C]: in function 'assert'\n\t...heleceru/torch/install/share/lua/5.1/nngraph/gmodule.lua:74: in function '__init'\n\t...s/micheleceru/torch/install/share/lua/5.1/torch/init.lua:91: in function <...s/micheleceru/torch/install/share/lua/5.1/torch/init.lua:87>\n\t[C]: in function 'gModule'\n\t[string \"...\"]:3: in main chunk\n\t[C]: in function 'xpcall'\n\t.../micheleceru/torch/install/share/lua/5.1/itorch/main.lua:179: in function <.../micheleceru/torch/install/share/lua/5.1/itorch/main.lua:143>\n\t.../micheleceru/torch/install/share/lua/5.1/lzmq/poller.lua:75: in function 'poll'\n\t...cheleceru/torch/install/share/lua/5.1/lzmq/impl/loop.lua:307: in function 'poll'\n\t...cheleceru/torch/install/share/lua/5.1/lzmq/impl/loop.lua:325: in function 'sleep_ex'\n\t...cheleceru/torch/install/share/lua/5.1/lzmq/impl/loop.lua:370: in function 'start'\n\t.../micheleceru/torch/install/share/lua/5.1/itorch/main.lua:350: in main chunk\n\t[C]: in function 'require'\n\t(command line):1: in main chunk\n\t[C]: at 0x0102b0b1d0"
     ]
    }
   ],
   "source": [
    "\n",
    "x = nn.CAddTable()({nn.Identity()(),nn.Identity()()})\n",
    "m = nn.gModule({a,b},{x})"
   ]
  },
  {
   "cell_type": "code",
   "execution_count": 174,
   "metadata": {
    "collapsed": false
   },
   "outputs": [],
   "source": [
    "a=torch.Tensor(5,4)"
   ]
  },
  {
   "cell_type": "code",
   "execution_count": 45,
   "metadata": {
    "collapsed": false
   },
   "outputs": [
    {
     "data": {
      "text/plain": [
       " -0.0000e+00  -0.0000e+00  6.9169e-323   0.0000e+00\n",
       "  0.0000e+00  1.1286e+277  2.8751e+161  1.4776e+248\n",
       "  1.1610e-28  6.2499e-143   1.1610e-28   2.5771e-57\n",
       "  2.2644e-76  5.0116e+217  8.3717e-144   4.7654e-38\n",
       "  1.1420e-71   5.2497e-90   2.5267e-52  3.9706e+246\n",
       "[torch.DoubleTensor of size 5x4]\n",
       "\n"
      ]
     },
     "execution_count": 45,
     "metadata": {},
     "output_type": "execute_result"
    }
   ],
   "source": [
    "a"
   ]
  },
  {
   "cell_type": "code",
   "execution_count": 49,
   "metadata": {
    "collapsed": false
   },
   "outputs": [
    {
     "data": {
      "text/plain": [
       "  1.1610e-28  6.2499e-143   1.1610e-28   2.5771e-57\n",
       "[torch.DoubleTensor of size 1x4]\n",
       "\n"
      ]
     },
     "execution_count": 49,
     "metadata": {},
     "output_type": "execute_result"
    }
   ],
   "source": [
    "nn.Narrow(1,3,1):forward(a)"
   ]
  },
  {
   "cell_type": "code",
   "execution_count": 50,
   "metadata": {
    "collapsed": true
   },
   "outputs": [],
   "source": [
    "m = nn.LookupTable(4, 5)"
   ]
  },
  {
   "cell_type": "code",
   "execution_count": 51,
   "metadata": {
    "collapsed": false
   },
   "outputs": [
    {
     "data": {
      "text/plain": [
       "nn.LookupTable\n",
       "{\n",
       "  gradInput : DoubleTensor - empty\n",
       "  weight : DoubleTensor - size: 4x5\n",
       "  gradWeight : DoubleTensor - size: 4x5\n",
       "  output : DoubleTensor - empty\n",
       "}\n"
      ]
     },
     "execution_count": 51,
     "metadata": {},
     "output_type": "execute_result"
    }
   ],
   "source": [
    "m"
   ]
  },
  {
   "cell_type": "code",
   "execution_count": 52,
   "metadata": {
    "collapsed": false
   },
   "outputs": [
    {
     "data": {
      "text/plain": [
       " 0.6488  1.1246  0.8773 -0.9908  1.2907\n",
       "[torch.DoubleTensor of size 1x5]\n",
       "\n"
      ]
     },
     "execution_count": 52,
     "metadata": {},
     "output_type": "execute_result"
    }
   ],
   "source": [
    "m:forward(torch.Tensor{4})"
   ]
  },
  {
   "cell_type": "code",
   "execution_count": 53,
   "metadata": {
    "collapsed": false
   },
   "outputs": [
    {
     "data": {
      "text/plain": [
       "-1.0030 -1.4881 -0.3837  0.9192 -0.7055\n",
       " 0.6083  0.6257 -2.4606  0.9782  1.5735\n",
       "-1.3825 -1.1893  0.7070 -0.0560  0.1878\n",
       " 0.6488  1.1246  0.8773 -0.9908  1.2907\n",
       "[torch.DoubleTensor of size 4x5]\n",
       "\n"
      ]
     },
     "execution_count": 53,
     "metadata": {},
     "output_type": "execute_result"
    }
   ],
   "source": [
    "m.weight"
   ]
  },
  {
   "cell_type": "code",
   "execution_count": 54,
   "metadata": {
    "collapsed": false
   },
   "outputs": [
    {
     "data": {
      "text/plain": [
       "nn.Linear(5 -> 2)\n",
       "{\n"
      ]
     },
     "execution_count": 54,
     "metadata": {},
     "output_type": "execute_result"
    },
    {
     "data": {
      "text/plain": [
       "  gradBias : DoubleTensor - size: 2\n",
       "  weight : DoubleTensor - size: 2x5\n",
       "  bias : DoubleTensor - size: 2\n",
       "  gradInput : DoubleTensor - empty\n",
       "  gradWeight : DoubleTensor - size: 2x5\n",
       "  output : DoubleTensor - empty\n",
       "}\n"
      ]
     },
     "execution_count": 54,
     "metadata": {},
     "output_type": "execute_result"
    }
   ],
   "source": [
    "nn.Linear(5,2)"
   ]
  },
  {
   "cell_type": "code",
   "execution_count": 55,
   "metadata": {
    "collapsed": true
   },
   "outputs": [],
   "source": [
    "x = nn.Identity()()"
   ]
  },
  {
   "cell_type": "code",
   "execution_count": 57,
   "metadata": {
    "collapsed": false
   },
   "outputs": [
    {
     "data": {
      "text/plain": [
       "nngraph.Node\n",
       "{\n",
       "  data : \n",
       "    {\n",
       "      module : \n",
       "        nn.Linear(2 -> 2)\n",
       "        {\n",
       "          gradBias : DoubleTensor - size: 2\n",
       "          weight : DoubleTensor - size: 2x2\n",
       "          bias : DoubleTensor - size: 2\n",
       "          gradInput : DoubleTensor - empty\n",
       "          gradWeight : DoubleTensor - size: 2x2\n",
       "          output : DoubleTensor - empty\n",
       "        }\n",
       "      mapindex : \n",
       "        {\n",
       "          1 : \n",
       "            {\n",
       "              module : \n",
       "                nn.Identity\n",
       "        "
      ]
     },
     "execution_count": 57,
     "metadata": {},
     "output_type": "execute_result"
    },
    {
     "data": {
      "text/plain": [
       "        {\n",
       "                  gradInput : DoubleTensor - empty\n",
       "                  output : DoubleTensor - empty\n",
       "                }\n",
       "              mapindex : table: 0x03646ce8\n",
       "              annotations : \n",
       "                {\n",
       "                  _debugLabel : [[string \"x = nn.Identity()()...\"]]:1_\n",
       "                }\n",
       "            }\n",
       "          table: 0x03689950 : 1\n",
       "        }\n",
       "      annotations : \n",
       "        {\n",
       "          _debugLabel : [[string \"local f = function() return nn.Linear(2, 2)(x...\"]]:1_\n",
       "        }\n",
       "    }\n",
       "  visited : false\n",
       "  id : 0\n",
       "  marked : false\n",
       "  children : \n",
       "    {\n",
       "      1 : \n",
       "        nngraph.Node\n",
       "        {\n",
       "          data : \n",
       "            {\n",
       "              module : \n",
       "                nn.Identity\n",
       "                {\n",
       "                  gradInput : DoubleTensor - empty\n",
       "                  output : DoubleTensor - empty\n",
       "                }\n",
       "              mapindex : table: 0x03646ce8\n",
       "              annotations : \n",
       "                {\n",
       "                  _debugLabel : [[string \"x = nn.Identity()()...\"]]:1_\n",
       "                }\n",
       "            }\n",
       "          visited : false\n",
       "          id : 0\n",
       "          marked : false\n",
       "          children : table: 0x036a2088\n",
       "        }\n",
       "      nngraph.Node : 1\n",
       "    }\n",
       "}\n"
      ]
     },
     "execution_count": 57,
     "metadata": {},
     "output_type": "execute_result"
    }
   ],
   "source": [
    "nn.Linear(2, 2)(x)"
   ]
  },
  {
   "cell_type": "code",
   "execution_count": 234,
   "metadata": {
    "collapsed": false
   },
   "outputs": [
    {
     "ename": "[string \"b1=torch.Tensor(2):fill(0)...\"]:5: invalid arguments: nil \nexpected arguments: *DoubleTensor* [DoubleTensor] DoubleTensor\nstack traceback:\n\t[C]: in function 'cmul'\n\t[string \"b1=torch.Tensor(2):fill(0)...\"]:5: in main chunk\n\t[C]: in function 'xpcall'\n\t.../micheleceru/torch/install/share/lua/5.1/itorch/main.lua:179: in function <.../micheleceru/torch/install/share/lua/5.1/itorch/main.lua:143>\n\t.../micheleceru/torch/install/share/lua/5.1/lzmq/poller.lua:75: in function 'poll'\n\t...cheleceru/torch/install/share/lua/5.1/lzmq/impl/loop.lua:307: in function 'poll'\n\t...cheleceru/torch/install/share/lua/5.1/lzmq/impl/loop.lua:325: in function 'sleep_ex'\n\t...cheleceru/torch/install/share/lua/5.1/lzmq/impl/loop.lua:370: in function 'start'\n\t.../micheleceru/torch/install/share/lua/5.1/itorch/main.lua:350: in main chunk\n\t[C]: in function 'require'\n\t(command line):1: in main chunk\n\t[C]: at 0x0102b0b1d0",
     "evalue": "",
     "output_type": "error",
     "traceback": [
      "[string \"b1=torch.Tensor(2):fill(0)...\"]:5: invalid arguments: nil \nexpected arguments: *DoubleTensor* [DoubleTensor] DoubleTensor\nstack traceback:\n\t[C]: in function 'cmul'\n\t[string \"b1=torch.Tensor(2):fill(0)...\"]:5: in main chunk\n\t[C]: in function 'xpcall'\n\t.../micheleceru/torch/install/share/lua/5.1/itorch/main.lua:179: in function <.../micheleceru/torch/install/share/lua/5.1/itorch/main.lua:143>\n\t.../micheleceru/torch/install/share/lua/5.1/lzmq/poller.lua:75: in function 'poll'\n\t...cheleceru/torch/install/share/lua/5.1/lzmq/impl/loop.lua:307: in function 'poll'\n\t...cheleceru/torch/install/share/lua/5.1/lzmq/impl/loop.lua:325: in function 'sleep_ex'\n\t...cheleceru/torch/install/share/lua/5.1/lzmq/impl/loop.lua:370: in function 'start'\n\t.../micheleceru/torch/install/share/lua/5.1/itorch/main.lua:350: in main chunk\n\t[C]: in function 'require'\n\t(command line):1: in main chunk\n\t[C]: at 0x0102b0b1d0"
     ]
    }
   ],
   "source": [
    "b1=torch.Tensor(2):fill(0)\n",
    "x=torch.Tensor(4):fill(1)\n",
    "Wx=torch.Tensor(2,4):fill(1)\n",
    "b1:addmv(Wx, x)\n",
    "\n"
   ]
  },
  {
   "cell_type": "code",
   "execution_count": 208,
   "metadata": {
    "collapsed": false
   },
   "outputs": [
    {
     "ename": "[string \"local f = function() return b1.dot(b1) end; l...\"]:1: invalid arguments: DoubleTensor \nexpected arguments: DoubleTensor DoubleTensor\nstack traceback:\n\t[C]: in function 'f'\n\t[string \"local f = function() return b1.dot(b1) end; l...\"]:1: in main chunk\n\t[C]: in function 'xpcall'\n\t.../micheleceru/torch/install/share/lua/5.1/itorch/main.lua:179: in function <.../micheleceru/torch/install/share/lua/5.1/itorch/main.lua:143>\n\t.../micheleceru/torch/install/share/lua/5.1/lzmq/poller.lua:75: in function 'poll'\n\t...cheleceru/torch/install/share/lua/5.1/lzmq/impl/loop.lua:307: in function 'poll'\n\t...cheleceru/torch/install/share/lua/5.1/lzmq/impl/loop.lua:325: in function 'sleep_ex'\n\t...cheleceru/torch/install/share/lua/5.1/lzmq/impl/loop.lua:370: in function 'start'\n\t.../micheleceru/torch/install/share/lua/5.1/itorch/main.lua:350: in main chunk\n\t[C]: in function 'require'\n\t(command line):1: in main chunk\n\t[C]: at 0x0102b0b1d0",
     "evalue": "",
     "output_type": "error",
     "traceback": [
      "[string \"local f = function() return b1.dot(b1) end; l...\"]:1: invalid arguments: DoubleTensor \nexpected arguments: DoubleTensor DoubleTensor\nstack traceback:\n\t[C]: in function 'f'\n\t[string \"local f = function() return b1.dot(b1) end; l...\"]:1: in main chunk\n\t[C]: in function 'xpcall'\n\t.../micheleceru/torch/install/share/lua/5.1/itorch/main.lua:179: in function <.../micheleceru/torch/install/share/lua/5.1/itorch/main.lua:143>\n\t.../micheleceru/torch/install/share/lua/5.1/lzmq/poller.lua:75: in function 'poll'\n\t...cheleceru/torch/install/share/lua/5.1/lzmq/impl/loop.lua:307: in function 'poll'\n\t...cheleceru/torch/install/share/lua/5.1/lzmq/impl/loop.lua:325: in function 'sleep_ex'\n\t...cheleceru/torch/install/share/lua/5.1/lzmq/impl/loop.lua:370: in function 'start'\n\t.../micheleceru/torch/install/share/lua/5.1/itorch/main.lua:350: in main chunk\n\t[C]: in function 'require'\n\t(command line):1: in main chunk\n\t[C]: at 0x0102b0b1d0"
     ]
    }
   ],
   "source": []
  },
  {
   "cell_type": "code",
   "execution_count": null,
   "metadata": {
    "collapsed": false
   },
   "outputs": [],
   "source": []
  },
  {
   "cell_type": "code",
   "execution_count": null,
   "metadata": {
    "collapsed": true
   },
   "outputs": [],
   "source": []
  },
  {
   "cell_type": "code",
   "execution_count": null,
   "metadata": {
    "collapsed": true
   },
   "outputs": [],
   "source": []
  },
  {
   "cell_type": "code",
   "execution_count": null,
   "metadata": {
    "collapsed": true
   },
   "outputs": [],
   "source": []
  },
  {
   "cell_type": "code",
   "execution_count": 220,
   "metadata": {
    "collapsed": false
   },
   "outputs": [],
   "source": [
    "x                  = nn.Identity()()\n",
    "y                  = nn.Identity()()\n",
    "prev_s             = nn.Identity()()\n",
    "i                  = {[0] = nn.LookupTable(100,5)(x)}"
   ]
  },
  {
   "cell_type": "code",
   "execution_count": 221,
   "metadata": {
    "collapsed": false
   },
   "outputs": [
    {
     "data": {
      "text/plain": [
       "{\n",
       "  0 : \n",
       "    nngraph.Node\n",
       "    {\n",
       "      data : \n",
       "        {\n",
       "          module : \n",
       "            nn.LookupTable\n",
       "            {\n",
       "              gradInput : DoubleTensor - empty\n",
       "              weight : DoubleTensor - size: 100x5\n",
       "              gradWeight : DoubleTensor - size: 100x5\n",
       "              output : DoubleTensor - empty\n",
       "            }\n",
       "          mapindex : \n",
       "            {\n",
       "              1 : \n",
       "                {\n",
       "                  module : nn.Identity\n",
       "                  mapindex : table: 0x0383abb8\n",
       "                  annotations : table: 0x0383ab58\n",
       "                }\n"
      ]
     },
     "execution_count": 221,
     "metadata": {},
     "output_type": "execute_result"
    },
    {
     "data": {
      "text/plain": [
       "              table: 0x0383aad0 : 1\n",
       "            }\n",
       "          annotations : \n",
       "            {\n",
       "              _debugLabel : [[string \"x                  = nn.Identity()()...\"]]:4_\n",
       "            }\n",
       "        }\n",
       "      visited : false\n",
       "      id : 0\n",
       "      marked : false\n",
       "      children : \n",
       "        {\n",
       "          1 : \n",
       "            nngraph.Node\n",
       "            {\n",
       "              data : \n",
       "                {\n",
       "                  module : nn.Identity\n",
       "                  mapindex : table: 0x0383abb8\n",
       "                  annotations : table: 0x0383ab58\n",
       "                }\n",
       "              visited : false\n",
       "              id : 0\n",
       "              marked : false\n",
       "              children : table: 0x0383ab90\n",
       "            }\n",
       "          nngraph.Node : 1\n",
       "        }\n",
       "    }\n",
       "}\n"
      ]
     },
     "execution_count": 221,
     "metadata": {},
     "output_type": "execute_result"
    }
   ],
   "source": [
    "i"
   ]
  },
  {
   "cell_type": "code",
   "execution_count": 228,
   "metadata": {
    "collapsed": true
   },
   "outputs": [],
   "source": [
    "split              = {prev_s:split(2 * 5)}"
   ]
  },
  {
   "cell_type": "code",
   "execution_count": 229,
   "metadata": {
    "collapsed": false
   },
   "outputs": [
    {
     "data": {
      "text/plain": [
       "{\n",
       "  1 : \n",
       "    nngraph.Node\n",
       "    {\n",
       "      data : \n",
       "        {\n",
       "          annotations : \n",
       "            {\n",
       "              _debugLabel : [[string \"x                  = nn.Identity()()...\"]]:3_-1\n",
       "            }\n",
       "          selectindex : 1\n",
       "          input : table: 0x03567ef0\n",
       "          mapindex : \n",
       "            {\n",
       "              1 : \n",
       "                {\n",
       "                  annotations : table: 0x035df5a8\n",
       "                  nSplitOutputs : 10\n",
       "                  mapindex : table: 0x035dcfa8\n",
       "                }\n",
       "              table: 0x03587508 : 1\n",
       "            }\n",
       "        }\n",
       "      visited : false\n",
       "      id : 0\n",
       "      marked : false\n",
       "      children : \n",
       "        {\n",
       "          1 : \n",
       "            nngraph.Node\n",
       "            {\n",
       "              data : \n",
       "                {\n",
       "                  annotations : table: 0x035df5a8\n",
       "                  nSplitOutputs : 10\n",
       "                  mapindex : table: 0x035dcfa8\n",
       "                }\n",
       "              visited : false\n",
       "              id : 0\n",
       "              marked : false\n",
       "              children : \n",
       "                {\n",
       "                  1 : nngraph.Node\n",
       "                  nngraph.Node : 1\n",
       "                }\n",
       "            }\n",
       "          nngraph.Node : 1\n",
       "        }\n",
       "    }\n",
       "  2 : \n",
       "    nngraph.Node\n",
       "    {\n",
       "      data : \n",
       "        {\n",
       "  "
      ]
     },
     "execution_count": 229,
     "metadata": {},
     "output_type": "execute_result"
    },
    {
     "data": {
      "text/plain": [
       "        annotations : \n",
       "            {\n",
       "              _debugLabel : [[string \"x                  = nn.Identity()()...\"]]:3_-2\n",
       "            }\n",
       "          selectindex : 2\n",
       "          input : table: 0x03564e88\n",
       "          mapindex : \n",
       "            {\n",
       "              1 : \n",
       "                {\n",
       "                  annotations : table: 0x035df5a8\n",
       "                  nSplitOutputs : 10\n",
       "                  mapindex : table: 0x035dcfa8\n",
       "                }\n",
       "              table: 0x03587508 : 1\n",
       "            }\n",
       "        }\n",
       "      visited : false\n",
       "      id : 0\n",
       "      marked : false\n",
       "      children : \n",
       "        {\n",
       "          1 : \n",
       "            nngraph.Node\n",
       "            {\n",
       "              data : \n",
       "                {\n",
       "                  annotations : table: 0x035df5a8\n",
       "                  nSplitOutputs : 10\n",
       "                  mapindex : table: 0x035dcfa8\n",
       "                }\n",
       "              visited : false\n",
       "              id : 0\n",
       "              marked : false\n",
       "              children : \n",
       "                {\n",
       "                  1 : nngraph.Node\n",
       "                  nngraph.Node : 1\n",
       "                }\n",
       "            }\n",
       "          nngraph.Node : 1\n",
       "        }\n",
       "    }\n",
       "  3 : \n",
       "    nngraph.Node\n",
       "    {\n",
       "      data : \n",
       "        {\n",
       "          annotations : \n",
       "            {\n",
       "              _debugLabel : [[string \"x                  = nn.Identity()()...\"]]:3_-3\n",
       "            }\n",
       "          selectindex : 3\n",
       "          input : table: 0x03564800\n",
       "          mapindex : \n",
       "            {\n",
       "              1 : \n",
       "                {\n",
       "                  annotations : table: 0x035df5a8\n",
       "                  nSplitOutputs : 10\n",
       "                  mapindex : table: 0x035dcfa8\n",
       "                }\n",
       "              table: 0x03587508 : 1\n",
       "            }\n",
       "        }\n",
       "      visited : false\n",
       "      id : 0\n",
       "      marked : false\n",
       "      children : \n",
       "        {\n",
       "          1 : \n",
       "            nngraph.Node\n",
       "            {\n",
       "              data : \n",
       "                {\n",
       "                  annotations : table: 0x035df5a8\n",
       "                  nSplitOutputs : 10\n",
       "                  mapindex : table: 0x035dcfa8\n",
       "                }\n",
       "              visited : false\n",
       "              id : 0\n",
       "              marked : false\n",
       "              children : \n",
       "                {\n",
       "                  1 : nngraph.Node\n",
       "                  nngraph.Node : 1\n",
       "                }\n",
       "            }\n",
       "          nngraph.Node : 1\n",
       "        }\n",
       "    }\n",
       "  4 : \n",
       "    nngraph.Node\n",
       "    {\n",
       "      data : \n",
       "        {\n",
       "          annotations : \n",
       "            {\n",
       "              _debugLabel : [[string \"x                  = nn.Identity()()...\"]]:3_-4\n",
       "            }\n",
       "          selectindex : 4\n",
       "          input : table: 0x03557030\n",
       "          mapindex : \n",
       "            {\n",
       "              1 : \n",
       "                {\n",
       "                  annotations : table: 0x035df5a8\n",
       "                  nSplitOutputs : 10\n",
       "                  mapindex : table: 0x035dcfa8\n",
       "                }\n",
       "              table: 0x03587508 : 1\n",
       "            }\n",
       "        }\n",
       "      visited : false\n",
       "      id : 0\n",
       "      marked : false\n",
       "      children : \n",
       "        {\n",
       "          1 : \n",
       "            nngraph.Node\n",
       "            {\n",
       "              data : \n",
       "                {\n",
       "                  annotations : table: 0x035df5a8\n",
       "                  nSplitOutputs : 10\n",
       "                  mapindex : table: 0x035dcfa8\n",
       "                }\n",
       "              visited : false\n",
       "              id : 0\n",
       "              marked : false\n",
       "              children : \n",
       "                {\n",
       "                  1 : nngraph.Node\n",
       "                  nngraph.Node : 1\n",
       "                }\n",
       "            }\n",
       "          nngraph.Node : 1\n",
       "        }\n",
       "    }\n",
       "  5 : \n",
       "    nngraph.Node\n",
       "    {\n",
       "      data : \n",
       "        {\n",
       "          annotations : \n",
       "            {\n",
       "              _debugLabel : [[string \"x                  = nn.Identity()()...\"]]:3_-5\n",
       "            }\n",
       "          selectindex : 5\n",
       "          input : table: 0x035d5468\n",
       "          mapindex : \n",
       "            {\n",
       "              1 : \n",
       "                {\n",
       "                  annotations : table: 0x035df5a8\n",
       "                  nSplitOutputs : 10\n",
       "                  mapindex : table: 0x035dcfa8\n",
       "                }\n",
       "            "
      ]
     },
     "execution_count": 229,
     "metadata": {},
     "output_type": "execute_result"
    },
    {
     "data": {
      "text/plain": [
       "  table: 0x03587508 : 1\n",
       "            }\n",
       "        }\n",
       "      visited : false\n",
       "      id : 0\n",
       "      marked : false\n",
       "      children : \n",
       "        {\n",
       "          1 : \n",
       "            nngraph.Node\n",
       "            {\n",
       "              data : \n",
       "                {\n",
       "                  annotations : table: 0x035df5a8\n",
       "                  nSplitOutputs : 10\n",
       "                  mapindex : table: 0x035dcfa8\n",
       "                }\n",
       "              visited : false\n",
       "              id : 0\n",
       "              marked : false\n",
       "              children : \n",
       "                {\n",
       "                  1 : nngraph.Node\n",
       "                  nngraph.Node : 1\n",
       "                }\n",
       "            }\n",
       "          nngraph.Node : 1\n",
       "        }\n",
       "    }\n",
       "  6 : \n",
       "    nngraph.Node\n",
       "    {\n",
       "      data : \n",
       "        {\n",
       "          annotations : \n",
       "            {\n",
       "              _debugLabel : [[string \"x                  = nn.Identity()()...\"]]:3_-6\n",
       "            }\n",
       "          selectindex : 6\n",
       "          input : table: 0x02d4eba0\n",
       "          mapindex : \n",
       "            {\n",
       "              1 : \n",
       "                {\n",
       "                  annotations : table: 0x035df5a8\n",
       "                  nSplitOutputs : 10\n",
       "                  mapindex : table: 0x035dcfa8\n",
       "                }\n",
       "              table: 0x03587508 : 1\n",
       "            }\n",
       "        }\n",
       "      visited : false\n",
       "      id : 0\n",
       "      marked : false\n",
       "      children : \n",
       "        {\n",
       "          1 : \n",
       "            nngraph.Node\n",
       "            {\n",
       "              data : \n",
       "                {\n",
       "                  annotations : table: 0x035df5a8\n",
       "                  nSplitOutputs : 10\n",
       "                  mapindex : table: 0x035dcfa8\n",
       "                }\n",
       "              visited : false\n",
       "              id : 0\n",
       "       "
      ]
     },
     "execution_count": 229,
     "metadata": {},
     "output_type": "execute_result"
    },
    {
     "data": {
      "text/plain": [
       "       marked : false\n",
       "              children : \n",
       "                {\n",
       "                  1 : nngraph.Node\n",
       "                  nngraph.Node : 1\n",
       "                }\n",
       "            }\n",
       "          nngraph.Node : 1\n",
       "        }\n",
       "    }\n",
       "  7 : \n",
       "    nngraph.Node\n",
       "    {\n",
       "      data : \n",
       "        {\n",
       "          annotations : \n",
       "            {\n",
       "              _debugLabel : [[string \"x                  = nn.Identity()()...\"]]:3_-7\n",
       "            }\n",
       "          selectindex : 7\n",
       "          input : table: 0x031c5f48\n",
       "          mapindex : \n",
       "            {\n",
       "              1 : \n",
       "                {\n",
       "                  annotations : table: 0x035df5a8\n",
       "                  nSplitOutputs : 10\n",
       "                  mapindex : table: 0x035dcfa8\n",
       "                }\n",
       "              table: 0x03587508 : 1\n",
       "            }\n",
       "        }\n",
       "      visited : false\n",
       "      id : 0\n",
       "      marked : false\n",
       "      children : \n",
       "        {\n",
       "          1 : \n",
       "            nngraph.Node\n",
       "            {\n",
       "              data : \n",
       "                {\n",
       "                  annotations : table: 0x035df5a8\n",
       "                  nSplitOutputs : 10\n",
       "                  mapindex : table: 0x035dcfa8\n",
       "                }\n",
       "              visited : false\n",
       "              id : 0\n",
       "              marked : false\n",
       "              children : \n",
       "                {\n",
       "                  1 : nngraph.Node\n",
       "                  nngraph.Node : 1\n",
       "                }\n",
       "   "
      ]
     },
     "execution_count": 229,
     "metadata": {},
     "output_type": "execute_result"
    },
    {
     "data": {
      "text/plain": [
       "         }\n",
       "          nngraph.Node : 1\n",
       "        }\n",
       "    }\n",
       "  8 : \n",
       "    nngraph.Node\n",
       "    {\n",
       "      data : \n",
       "        {\n",
       "          annotations : \n",
       "            {\n",
       "              _debugLabel : [[string \"x                  = nn.Identity()()...\"]]:3_-8\n",
       "            }\n",
       "          selectindex : 8\n",
       "          input : table: 0x035b7398\n",
       "          mapindex : \n",
       "            {\n",
       "              1 : \n",
       "                {\n",
       "                  annotations : table: 0x035df5a8\n",
       "                  nSplitOutputs : 10\n",
       "                  mapindex : table: 0x035dcfa8\n",
       "                }\n",
       "              table: 0x03587508 : 1\n",
       "            }\n",
       "        }\n",
       "      visited : false\n",
       "      id : 0\n",
       "      marked : false\n",
       "      children : \n",
       "        {\n",
       "          1 : \n",
       "            nngraph.Node\n",
       "            {\n",
       "              data : \n",
       "                {\n",
       "                  annotations : table: 0x035df5a8\n",
       "                  nSplitOutputs : 10\n",
       "                  mapindex : table: 0x035dcfa8\n",
       "                }\n",
       "              visited : false\n",
       "              id : 0\n",
       "              marked : false\n",
       "              children : \n",
       "                {\n",
       "                  1 : nngraph.Node\n"
      ]
     },
     "execution_count": 229,
     "metadata": {},
     "output_type": "execute_result"
    },
    {
     "data": {
      "text/plain": [
       "                  nngraph.Node : 1\n",
       "                }\n",
       "            }\n",
       "          nngraph.Node : 1\n",
       "        }\n",
       "    }\n",
       "  9 : \n",
       "    nngraph.Node\n",
       "    {\n",
       "      data : \n",
       "        {\n",
       "          annotations : \n",
       "            {\n",
       "              _debugLabel : [[string \"x                  = nn.Identity()()...\"]]:3_-9\n",
       "            }\n",
       "          selectindex : 9\n",
       "          input : table: 0x035792c0\n",
       "          mapindex : \n",
       "            {\n",
       "              1 : \n",
       "                {\n",
       "                  annotations : table: 0x035df5a8\n",
       "                  nSplitOutputs : 10\n",
       "                  mapindex : table: 0x035dcfa8\n",
       "                }\n",
       "              table: 0x03587508 : 1\n",
       "            }\n",
       "        }\n",
       "      visited : false\n",
       "      id : 0\n",
       "      marked : false\n",
       "      children : \n",
       "        {\n",
       "          1 : \n",
       "            nngraph.Node\n",
       "            {\n",
       "              data : \n",
       "                {\n",
       "                  annotations : table: 0x035df5a8\n",
       "                  nSplitOutputs : 10\n",
       "                  mapindex : table: 0x035dcfa8\n",
       "                }\n",
       "              visited : false\n",
       "              id : 0\n",
       "              marked : false\n",
       "              children : \n",
       "                {\n",
       "                  1 : nngraph.Node\n",
       "                  nngraph.Node : 1\n",
       "                }\n",
       "            }\n",
       "          nngraph.Node : 1\n",
       "        }\n",
       "    }\n",
       "  10 : \n",
       "    nngraph.Node\n",
       "    {\n",
       "      data : \n",
       "        {\n",
       "          annotations : \n",
       "            {\n",
       "              _debugLabel : [[string \"x                  = nn.Identity()()...\"]]:3_-10\n",
       "            }\n",
       "          selectindex : 10\n",
       "          input : table: 0x035ab9d8\n",
       "          mapindex : \n",
       "            {\n",
       "              1 : \n",
       "                {\n",
       "                  annotations : table: 0x035df5a8\n",
       "                  nSplitOutputs : 10\n",
       "                  mapindex : table: 0x035dcfa8\n",
       "                }\n",
       "              table: 0x03587508 : 1\n",
       "            }\n",
       "        }\n",
       "      visited : false\n",
       "      id : 0\n",
       "      marked : false\n",
       "      children : \n",
       "        {\n",
       "          1 : \n",
       "            nngraph.Node\n",
       "            {\n",
       "              data : \n",
       "                {\n",
       "                  annotations : table: 0x035df5a8\n"
      ]
     },
     "execution_count": 229,
     "metadata": {},
     "output_type": "execute_result"
    },
    {
     "data": {
      "text/plain": [
       "                  nSplitOutputs : 10\n",
       "                  mapindex : table: 0x035dcfa8\n",
       "                }\n",
       "              visited : false\n",
       "              id : 0\n",
       "              marked : false\n",
       "              children : \n",
       "                {\n",
       "                  1 : nngraph.Node\n",
       "                  nngraph.Node : 1\n",
       "                }\n",
       "            }\n",
       "          nngraph.Node : 1\n",
       "        }\n",
       "    }\n",
       "}\n"
      ]
     },
     "execution_count": 229,
     "metadata": {},
     "output_type": "execute_result"
    }
   ],
   "source": [
    "split"
   ]
  },
  {
   "cell_type": "code",
   "execution_count": 231,
   "metadata": {
    "collapsed": false
   },
   "outputs": [],
   "source": [
    "m = nn.Sequential()\n",
    "m:add(nn.SplitTable(1))\n",
    "m:add(nn.ParallelTable():add(nn.Linear(10, 20)):add(nn.Linear(10, 30)))\n",
    "input = nn.Identity()()\n",
    "input1, input2 = m(input):split(2)\n",
    "m3 = nn.JoinTable(1)({input1, input2})\n"
   ]
  },
  {
   "cell_type": "code",
   "execution_count": 232,
   "metadata": {
    "collapsed": false
   },
   "outputs": [
    {
     "data": {
      "text/plain": [
       "nn.Sequential {\n",
       "  [input -> (1) -> (2) -> output]\n",
       "  (1): nn.SplitTable\n",
       "  (2): nn.ParallelTable {\n",
       "    input\n",
       "      |`-> (1): nn.Linear(10 -> 20)\n",
       "      |`-> (2): nn.Linear(10 -> 30)\n",
       "       ... -> output\n",
       "  }\n",
       "}\n",
       "{\n",
       "  gradInput : DoubleTensor - empty\n",
       "  modules : \n",
       "    {\n",
       "      1 : \n",
       "        nn.SplitTable\n",
       "        {\n",
       "          gradInput : DoubleTensor - empty\n",
       "          dimension : 1\n",
       "          output : DoubleTensor - empty\n",
       "        }\n",
       "      2 : \n",
       "        nn.ParallelTable {\n",
       "          input\n",
       "            |`-> (1): nn.Linear(10 -> 20)\n",
       "            |`-> (2): nn.Linear(10 -> 30)\n",
       "             ... -> output\n",
       "        }\n",
       "        {\n",
       "          gradInput : table: 0x035ba740\n",
       "          modules : \n",
       "            {\n",
       "              1 : \n",
       "                nn.Linear(10 -> 20)\n",
       "              "
      ]
     },
     "execution_count": 232,
     "metadata": {},
     "output_type": "execute_result"
    },
    {
     "data": {
      "text/plain": [
       "  {\n",
       "                  gradBias : DoubleTensor - size: 20\n",
       "                  weight : DoubleTensor - size: 20x10\n",
       "                  bias : DoubleTensor - size: 20\n",
       "                  gradInput : DoubleTensor - empty\n",
       "                  gradWeight : DoubleTensor - size: 20x10\n",
       "                  output : DoubleTensor - empty\n",
       "                }\n",
       "              2 : \n",
       "                nn.Linear(10 -> 30)\n",
       "                {\n",
       "                  gradBias : DoubleTensor - size: 30\n",
       "                  weight : DoubleTensor - size: 30x10\n",
       "                  bias : DoubleTensor - size: 30\n",
       "                  gradInput : DoubleTensor - empty\n",
       "                  gradWeight : DoubleTensor - size: 30x10\n",
       "                  output : DoubleTensor - empty\n",
       "                }\n",
       "            }\n",
       "          output : table: 0x035ba718\n",
       "        }\n",
       "    }\n",
       "  output : table: 0x035ba718\n",
       "}\n"
      ]
     },
     "execution_count": 232,
     "metadata": {},
     "output_type": "execute_result"
    }
   ],
   "source": [
    "m"
   ]
  },
  {
   "cell_type": "code",
   "execution_count": null,
   "metadata": {
    "collapsed": true
   },
   "outputs": [],
   "source": [
    "\n",
    "g = nn.gModule({input}, {m3})\n",
    "\n",
    "indata = torch.rand(2, 10)\n",
    "gdata = torch.rand(50)\n",
    "g:forward(indata)\n",
    "g:backward(indata, gdata)\n",
    "\n",
    "graph.dot(g.fg, 'Forward Graph')\n",
    "graph.dot(g.bg, 'Backward Graph')"
   ]
  },
  {
   "cell_type": "code",
   "execution_count": null,
   "metadata": {
    "collapsed": true
   },
   "outputs": [],
   "source": []
  },
  {
   "cell_type": "code",
   "execution_count": null,
   "metadata": {
    "collapsed": true
   },
   "outputs": [],
   "source": []
  },
  {
   "cell_type": "code",
   "execution_count": null,
   "metadata": {
    "collapsed": true
   },
   "outputs": [],
   "source": []
  },
  {
   "cell_type": "code",
   "execution_count": null,
   "metadata": {
    "collapsed": true
   },
   "outputs": [],
   "source": []
  }
 ],
 "metadata": {
  "kernelspec": {
   "display_name": "iTorch",
   "language": "lua",
   "name": "itorch"
  },
  "language_info": {
   "name": "lua",
   "version": "20100"
  }
 },
 "nbformat": 4,
 "nbformat_minor": 0
}
