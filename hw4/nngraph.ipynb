{
 "cells": [
  {
   "cell_type": "code",
   "execution_count": 1,
   "metadata": {
    "collapsed": true
   },
   "outputs": [],
   "source": [
    "require 'nngraph';"
   ]
  },
  {
   "cell_type": "code",
   "execution_count": 2,
   "metadata": {
    "collapsed": true
   },
   "outputs": [],
   "source": [
    "b1=torch.Tensor(2):fill(0)\n",
    "x=torch.Tensor(4):fill(1)\n",
    "Wx=torch.Tensor(2,4):fill(1)\n",
    "b1:addmv(Wx, x)\n",
    "\n",
    "\n",
    "b2=torch.Tensor(2):fill(0)\n",
    "y=torch.Tensor(5):fill(1)\n",
    "Wy=torch.Tensor(2,5):fill(1)\n",
    "b2:addmv(Wy, y)\n"
   ]
  },
  {
   "cell_type": "code",
   "execution_count": null,
   "metadata": {
    "collapsed": false
   },
   "outputs": [],
   "source": []
  },
  {
   "cell_type": "code",
   "execution_count": null,
   "metadata": {
    "collapsed": true
   },
   "outputs": [],
   "source": []
  },
  {
   "cell_type": "code",
   "execution_count": 3,
   "metadata": {
    "collapsed": false
   },
   "outputs": [],
   "source": [
    "--b1:tanh():cmul(b1:tanh())"
   ]
  },
  {
   "cell_type": "code",
   "execution_count": 4,
   "metadata": {
    "collapsed": false
   },
   "outputs": [],
   "source": [
    "t1=nn:Tanh()()\n",
    "t2=nn:Tanh()()\n",
    "mult=nn.CMulTable()({t1,t2})\n",
    "m=nn.gModule({t1,t2},{mult})"
   ]
  },
  {
   "cell_type": "code",
   "execution_count": 5,
   "metadata": {
    "collapsed": false
   },
   "outputs": [
    {
     "data": {
      "text/plain": [
       " 0.9987\n",
       " 0.9987\n",
       "[torch.DoubleTensor of size 2]\n",
       "\n"
      ]
     },
     "execution_count": 5,
     "metadata": {},
     "output_type": "execute_result"
    }
   ],
   "source": [
    "m:forward({b1,b1})"
   ]
  },
  {
   "cell_type": "code",
   "execution_count": 6,
   "metadata": {
    "collapsed": false
   },
   "outputs": [],
   "source": [
    "s1=nn:Sigmoid()()\n",
    "s2=nn:Sigmoid()()\n",
    "muls=nn.CMulTable()({s1,s2})\n",
    "m=nn.gModule({s1,s2},{muls})\n",
    "\n"
   ]
  },
  {
   "cell_type": "code",
   "execution_count": 7,
   "metadata": {
    "collapsed": false
   },
   "outputs": [
    {
     "data": {
      "text/plain": [
       " 0.9867\n",
       " 0.9867\n",
       "[torch.DoubleTensor of size 2]\n",
       "\n"
      ]
     },
     "execution_count": 7,
     "metadata": {},
     "output_type": "execute_result"
    }
   ],
   "source": [
    "m:forward({b2,b2})"
   ]
  },
  {
   "cell_type": "code",
   "execution_count": 8,
   "metadata": {
    "collapsed": false
   },
   "outputs": [],
   "source": [
    "h1 = nn.Linear(20, 10)()\n",
    "h2 = nn.Linear(10, 1)\n",
    "nn.Tanh()(nn.Tanh()(nn.Linear(10, 10)(nn.Tanh()(h1))))"
   ]
  },
  {
   "cell_type": "code",
   "execution_count": 13,
   "metadata": {
    "collapsed": false
   },
   "outputs": [
    {
     "data": {
      "text/plain": [
       "output: \n",
       "\t\n",
       " 1.0665\n",
       " 1.1931\n",
       "[torch.DoubleTensor of size 2]\n",
       "\n"
      ]
     },
     "execution_count": 13,
     "metadata": {},
     "output_type": "execute_result"
    },
    {
     "data": {
      "text/plain": [
       "bprop to x: \n",
       "\t\n",
       " 0.0524\n",
       " 0.1461\n",
       " 0.1101\n",
       "-0.1214\n",
       "[torch.DoubleTensor of size 4]\n",
       "\n",
       "bprop to y: \n",
       "\t\n",
       "0.01 *\n",
       "-0.6659\n",
       "-0.8065\n",
       "-2.8237\n",
       " 7.6746\n",
       " 1.6190\n",
       "[torch.DoubleTensor of size 5]\n",
       "\n",
       "bprop to z: \n",
       "\t\n",
       " 1\n",
       " 1\n",
       "[torch.DoubleTensor of size 2]\n",
       "\n"
      ]
     },
     "execution_count": 13,
     "metadata": {},
     "output_type": "execute_result"
    }
   ],
   "source": [
    "require 'torch'\n",
    "require 'nn'\n",
    "require 'nngraph'\n",
    "\n",
    "--inputs\n",
    "--x = torch.Tensor({.1,.2,.3,.4})\n",
    "--y = torch.Tensor({.3,.9,.5,.8,.7})\n",
    "--z = torch.Tensor({.7,.3})\n",
    "\n",
    "x=torch.Tensor(4):fill(1)\n",
    "y=torch.Tensor(5):fill(1)\n",
    "z = torch.Tensor(2):fill(1)\n",
    "--equations\n",
    "x1 = nn.Linear(4, 2)()\n",
    "y1 = nn.Linear(5,2)()\n",
    "h1 = nn.Square()(nn.Tanh()(x1))\n",
    "h2 = nn.Square()(nn.Sigmoid()(y1))\n",
    "h3 = nn.CMulTable()({h1,h2})\n",
    "z1 = nn.Identity()()\n",
    "h4 = nn.CAddTable()({h3,z1})\n",
    "\n",
    "--build gModule\n",
    "m = nn.gModule({x1,y1,z1}, {h4})\n",
    "\n",
    "grad = torch.Tensor({1,1})\n",
    "print(\"output: \\n\")\n",
    "print(m:updateOutput({x,y,z}))\n",
    "bprop = m:updateGradInput({x, y,z}, grad)\n",
    "print(\"bprop to x: \\n\")\n",
    "print(bprop[1])\n",
    "print(\"bprop to y: \\n\")\n",
    "print(bprop[2])\n",
    "print(\"bprop to z: \\n\")\n",
    "print(bprop[3])\n"
   ]
  },
  {
   "cell_type": "code",
   "execution_count": null,
   "metadata": {
    "collapsed": true
   },
   "outputs": [],
   "source": []
  }
 ],
 "metadata": {
  "kernelspec": {
   "display_name": "iTorch",
   "language": "lua",
   "name": "itorch"
  },
  "language_info": {
   "name": "lua",
   "version": "20100"
  }
 },
 "nbformat": 4,
 "nbformat_minor": 0
}
